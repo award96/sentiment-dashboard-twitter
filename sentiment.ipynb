{
 "cells": [
  {
   "cell_type": "code",
   "execution_count": null,
   "id": "f477e3cb",
   "metadata": {
    "ExecuteTime": {
     "end_time": "2023-02-27T04:34:03.383713Z",
     "start_time": "2023-02-27T04:33:59.685742Z"
    }
   },
   "outputs": [],
   "source": [
    "from pyspark.sql import SparkSession\n",
    "from pyspark.sql.functions import col\n",
    "from pyspark.sql.functions import explode, split, regexp_replace\n",
    "from pyspark.sql.types import StructType, StructField, StringType\n",
    "from vaderSentiment.vaderSentiment import SentimentIntensityAnalyzer\n",
    "from pyspark.streaming import StreamingContext\n",
    "from pyspark.sql import SQLContext\n",
    "import matplotlib.pyplot as plt\n",
    "import re"
   ]
  },
  {
   "cell_type": "code",
   "execution_count": null,
   "id": "43b3d9a0",
   "metadata": {
    "ExecuteTime": {
     "end_time": "2023-02-27T04:34:47.979636Z",
     "start_time": "2023-02-27T04:34:33.222116Z"
    }
   },
   "outputs": [],
   "source": [
    "# create a SparkSession\n",
    "spark = SparkSession.builder.appName(\"TwitterStreaming\").getOrCreate()\n",
    "\n",
    "# create a StreamingContext with batch interval of 1 second\n",
    "ssc = StreamingContext(spark.sparkContext, 1)\n",
    "sqlContext = SQLContext(spark)\n",
    "\n",
    "\n",
    "def preprocessing(rdd):\n",
    "    words = rdd.map(lambda x: x.split(\"t_end\")).flatMap(lambda x: x).map(lambda x: x.strip())\n",
    "    words = words.filter(lambda x: len(x) > 0)\n",
    "    words = words.map(lambda x: re.sub(r'http\\S+', '', x))\n",
    "    words = words.map(lambda x: re.sub(r'@\\w+', '', x))\n",
    "    words = words.map(lambda x: re.sub(r'#', '', x))\n",
    "    words = words.map(lambda x: re.sub(r'RT', '', x))\n",
    "    words = words.map(lambda x: re.sub(r':', '', x))\n",
    "    return words\n",
    "\n",
    "# create a DStream that reads data from port 5554\n",
    "lines = ssc.socketTextStream(\"localhost\", 5554)\n",
    "\n",
    "# preprocess non-empty RDDs and store clean tweets in a Spark DataFrame\n",
    "clean_tweets = lines.transform(lambda rdd: preprocessing(rdd))\n",
    "clean_tweets.pprint()"
   ]
  },
  {
   "cell_type": "code",
   "execution_count": null,
   "id": "ab2bbbc1",
   "metadata": {
    "ExecuteTime": {
     "end_time": "2023-02-27T04:11:23.425064Z",
     "start_time": "2023-02-27T04:11:21.572944Z"
    }
   },
   "outputs": [],
   "source": [
    "ssc.start()"
   ]
  },
  {
   "cell_type": "code",
   "execution_count": null,
   "id": "5320bf10",
   "metadata": {},
   "outputs": [],
   "source": []
  },
  {
   "cell_type": "code",
   "execution_count": null,
   "id": "5823e697",
   "metadata": {
    "ExecuteTime": {
     "end_time": "2023-02-27T03:41:55.781257Z",
     "start_time": "2023-02-27T03:41:53.666546Z"
    }
   },
   "outputs": [],
   "source": [
    "import time\n",
    "from IPython import display\n",
    "import matplotlib.pyplot as plt\n",
    "import seaborn as sns"
   ]
  },
  {
   "cell_type": "code",
   "execution_count": null,
   "id": "ab236c31",
   "metadata": {
    "ExecuteTime": {
     "end_time": "2023-02-27T03:42:02.055755Z",
     "start_time": "2023-02-27T03:42:01.358918Z"
    }
   },
   "outputs": [],
   "source": []
  },
  {
   "cell_type": "code",
   "execution_count": null,
   "id": "1990015b",
   "metadata": {
    "ExecuteTime": {
     "end_time": "2023-02-27T03:42:10.675799Z",
     "start_time": "2023-02-27T03:42:10.644978Z"
    }
   },
   "outputs": [],
   "source": [
    "clean_tweets.createOrReplaceTempView(\"tweets\")\n",
    "top_10_tweets = sqlContext.sql( '\"SELECT word FROM tweets\"' )\n",
    "top_10_df = top_10_tweets.toPandas()\n",
    "new_count += 1\n",
    "print(top_10_df)"
   ]
  },
  {
   "cell_type": "code",
   "execution_count": null,
   "id": "e4f4afc1",
   "metadata": {
    "ExecuteTime": {
     "end_time": "2023-02-27T04:10:34.866917Z",
     "start_time": "2023-02-27T04:10:34.645112Z"
    }
   },
   "outputs": [],
   "source": [
    "# stop the SparkSession\n",
    "ssc.stop()"
   ]
  }
 ],
 "metadata": {
  "kernelspec": {
   "display_name": "base",
   "language": "python",
   "name": "base"
  },
  "language_info": {
   "codemirror_mode": {
    "name": "ipython",
    "version": 3
   },
   "file_extension": ".py",
   "mimetype": "text/x-python",
   "name": "python",
   "nbconvert_exporter": "python",
   "pygments_lexer": "ipython3",
   "version": "3.8.5"
  }
 },
 "nbformat": 4,
 "nbformat_minor": 5
}
